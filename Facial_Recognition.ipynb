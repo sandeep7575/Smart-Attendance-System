{
 "cells": [
  {
   "cell_type": "code",
   "execution_count": 2,
   "metadata": {},
   "outputs": [],
   "source": [
    "import cv2\n",
    "import numpy as np\n",
    "from PIL import Image\n",
    "import os"
   ]
  },
  {
   "cell_type": "code",
   "execution_count": 3,
   "metadata": {},
   "outputs": [
    {
     "name": "stdout",
     "output_type": "stream",
     "text": [
      "\n",
      " Enter Used ID =  1\n"
     ]
    }
   ],
   "source": [
    "#Open Camera\n",
    "cam = cv2.VideoCapture(0)\n",
    "\n",
    "# Camera dimensions\n",
    "cam.set(3, 720) \n",
    "cam.set(4, 640) \n",
    "\n",
    "face_identity = cv2.CascadeClassifier('haarcascade_frontalface_default.xml')\n",
    "# Enter Unique ID\n",
    "user_id = input('\\n Enter Used ID =  ')\n",
    "\n",
    "# Initialize individual sampling face count\n",
    "pics = 0\n",
    "while(True):\n",
    "    ret, img = cam.read()\n",
    "    img = cv2.flip(img, 1) # flip video image vertically\n",
    "    gray = cv2.cvtColor(img, cv2.COLOR_BGR2GRAY)\n",
    "    faces = face_identity.detectMultiScale(gray, 1.2, 5)\n",
    "    \n",
    "    for (x,y,w,h) in faces:\n",
    "        cv2.rectangle(img, (x,y), (x+w,y+h), (0,255,0), 2)     \n",
    "        pics += 1\n",
    "        # Save the captured image into the datasets folder\n",
    "        cv2.imwrite(\"dataset/Face.\" + str(user_id) + '.' + str(pics) + \".jpg\", gray[y:y+h,x:x+w])\n",
    "        cv2.imshow('image', img)\n",
    "    k = cv2.waitKey(200) & 0xff \n",
    "    if k == 27:\n",
    "        break\n",
    "    elif pics >= 50:\n",
    "         break\n",
    "# Close windows\n",
    "cam.release()\n",
    "cv2.destroyAllWindows()"
   ]
  },
  {
   "cell_type": "markdown",
   "metadata": {},
   "source": [
    "## Train\n"
   ]
  },
  {
   "cell_type": "code",
   "execution_count": 4,
   "metadata": {},
   "outputs": [
    {
     "name": "stdout",
     "output_type": "stream",
     "text": [
      "\n",
      " Training User faces. Please Wait ...\n",
      "\n",
      " 1 faces trained.\n"
     ]
    }
   ],
   "source": [
    "# Location where pics saved\n",
    "img_path = 'dataset'\n",
    "\n",
    "# Recognize and identify\n",
    "recognizer = cv2.face.LBPHFaceRecognizer_create()\n",
    "\n",
    "identifier = cv2.CascadeClassifier(\"haarcascade_frontalface_default.xml\");\n",
    "\n",
    "# Detect each user face and assign id the\n",
    "def face_detect(img_path):\n",
    "\n",
    "    locs = [os.path.join(img_path,f) for f in os.listdir(img_path)]     \n",
    "    Samples=[]\n",
    "    User_ids = []\n",
    "\n",
    "    for loc in locs:\n",
    "\n",
    "        PIL_img = Image.open(loc).convert('L') # convert it to grayscale\n",
    "        img_numpy = np.array(PIL_img,'uint8')\n",
    "\n",
    "        id = int(os.path.split(loc)[-1].split(\".\")[1])\n",
    "        faces = identifier.detectMultiScale(img_numpy)\n",
    "\n",
    "        for (x,y,w,h) in faces:\n",
    "            Samples.append(img_numpy[y:y+h,x:x+w])\n",
    "            User_ids.append(id)\n",
    "\n",
    "    return Samples,User_ids\n",
    "\n",
    "print (\"\\n Training User faces. Please Wait ...\")\n",
    "faces,User_ids = face_detect(img_path)\n",
    "recognizer.train(faces, np.array(User_ids))\n",
    "\n",
    "# Save the model into trainer/trainer.yml\n",
    "recognizer.write('trainer/trainer.yml') \n",
    "\n",
    "# Number of user face id trained.\n",
    "print(\"\\n {0} faces trained.\".format(len(np.unique(User_ids))))"
   ]
  },
  {
   "cell_type": "markdown",
   "metadata": {},
   "source": [
    "## Test"
   ]
  },
  {
   "cell_type": "code",
   "execution_count": null,
   "metadata": {},
   "outputs": [],
   "source": [
    "\n",
    "recognizer = cv2.face.LBPHFaceRecognizer_create()\n",
    "recognizer.read('trainer/trainer.yml')\n",
    "cascadePath = \"haarcascade_frontalface_default.xml\"\n",
    "faceCascade = cv2.CascadeClassifier(cascadePath);\n",
    "font = cv2.FONT_HERSHEY_SIMPLEX\n",
    "\n",
    "User_ids = 0\n",
    "# names related to ids: \n",
    "person = ['None', 'Rahul','Sandeep','Adithya',\"Ashok\"] \n",
    "# Open Camera and \n",
    "cam = cv2.VideoCapture(0)\n",
    "cam.set(3, 720) # set video widht\n",
    "cam.set(4, 640) # set video height\n",
    "# Define min window size to be recognized as a face\n",
    "minW = 0.1*cam.get(3)\n",
    "minH = 0.1*cam.get(4)\n",
    "while True:\n",
    "    ret, img =cam.read()\n",
    "    gray = cv2.cvtColor(img,cv2.COLOR_BGR2GRAY)\n",
    "    \n",
    "    faces = faceCascade.detectMultiScale( \n",
    "        gray,\n",
    "        scaleFactor = 1.2,\n",
    "        minNeighbors = 5,\n",
    "        minSize = (int(minW), int(minH)),\n",
    "       )\n",
    "    for(x,y,w,h) in faces:\n",
    "        cv2.rectangle(img, (x,y), (x+w,y+h), (0,255,0), 2)\n",
    "        User_ids, confidence = recognizer.predict(gray[y:y+h,x:x+w])\n",
    "        if (confidence > 30 and confidence < 100):\n",
    "            User_ids = person[User_ids]\n",
    "            confidence = \"  {0}%\".format(round(confidence))\n",
    "        else:\n",
    "            User_ids = \"unknown\"\n",
    "            confidence = \"  {0}%\".format(round(confidence))\n",
    "        \n",
    "        cv2.putText(img, str(User_ids), (x+5,y-5), font, 1, (255,255,255), 2)\n",
    "        cv2.putText(img, str(confidence), (x+5,y+h-5), font, 1, (255,255,0), 1)  \n",
    "    \n",
    "    cv2.imshow('camera',img) \n",
    "    k = cv2.waitKey(10) & 0xff\n",
    "    if k == 27:\n",
    "        break\n",
    "\n",
    "cam.release()\n",
    "cv2.destroyAllWindows()\n"
   ]
  }
 ],
 "metadata": {
  "kernelspec": {
   "display_name": "Python 3",
   "language": "python",
   "name": "python3"
  },
  "language_info": {
   "codemirror_mode": {
    "name": "ipython",
    "version": 3
   },
   "file_extension": ".py",
   "mimetype": "text/x-python",
   "name": "python",
   "nbconvert_exporter": "python",
   "pygments_lexer": "ipython3",
   "version": "3.6.5"
  }
 },
 "nbformat": 4,
 "nbformat_minor": 2
}
